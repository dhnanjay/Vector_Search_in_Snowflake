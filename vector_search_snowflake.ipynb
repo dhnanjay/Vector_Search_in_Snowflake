{
 "cells": [
  {
   "cell_type": "code",
   "execution_count": 17,
   "id": "f9b5a75f-cdb0-4d82-8d77-1369808ed0c5",
   "metadata": {},
   "outputs": [],
   "source": [
    "# Libraries\n",
    "import snowflake.connector\n",
    "import pandas as pd\n",
    "import time\n",
    "import numpy as np\n",
    "from datetime import date\n",
    "from datetime import datetime\n",
    "import os\n",
    "from transformers import AutoTokenizer, AutoModel\n",
    "import numpy as np\n",
    "import torch\n",
    "\n",
    "# Snowflake Credentials\n",
    "uname=\"\"\n",
    "pwd=\"\"\n",
    "url=\"\"\n",
    "wh=\"\""
   ]
  },
  {
   "cell_type": "code",
   "execution_count": 18,
   "id": "0098eff0-127f-4d3e-8ea8-3068d473a445",
   "metadata": {},
   "outputs": [],
   "source": [
    "# Establish snowflake connection \n",
    "def sf_conn(user, pwd, url, wh=''):\n",
    "    cnx = snowflake.connector.connect(\n",
    "        user=user,\n",
    "        password=pwd,\n",
    "        account=url,\n",
    "        warehouse=wh\n",
    "        )\n",
    "    return cnx.cursor()"
   ]
  },
  {
   "cell_type": "code",
   "execution_count": 19,
   "id": "76639618-93fd-4681-94aa-342c19dcc173",
   "metadata": {},
   "outputs": [],
   "source": [
    "# Execute SQL query and return in a dataframe !!! Do replace the Database name & Schema Name in SQL queries !!!\n",
    "def exec_query(query, user, pwd,url):\n",
    "    cur = sf_conn(user,pwd,url)\n",
    "    start_time = time.time()\n",
    "    getData = cur.execute(query).fetchall()\n",
    "    column_names = [i[0] for i in cur.description]\n",
    "    cur.close()\n",
    "    #print(\"Time :\", ((time.time()-start_time))/60)\n",
    "    return(pd.DataFrame(getData, columns=column_names))"
   ]
  },
  {
   "cell_type": "code",
   "execution_count": 73,
   "id": "8d25cb9c-aea9-43f1-bf2b-8adbbbdef74a",
   "metadata": {},
   "outputs": [
    {
     "data": {
      "text/html": [
       "<div>\n",
       "<style scoped>\n",
       "    .dataframe tbody tr th:only-of-type {\n",
       "        vertical-align: middle;\n",
       "    }\n",
       "\n",
       "    .dataframe tbody tr th {\n",
       "        vertical-align: top;\n",
       "    }\n",
       "\n",
       "    .dataframe thead th {\n",
       "        text-align: right;\n",
       "    }\n",
       "</style>\n",
       "<table border=\"1\" class=\"dataframe\">\n",
       "  <thead>\n",
       "    <tr style=\"text-align: right;\">\n",
       "      <th></th>\n",
       "      <th>CONTACT_DOMAIN</th>\n",
       "      <th>DATE_TIME_NEWS</th>\n",
       "      <th>SNIPPET</th>\n",
       "      <th>TITLE</th>\n",
       "      <th>URL</th>\n",
       "    </tr>\n",
       "  </thead>\n",
       "  <tbody>\n",
       "    <tr>\n",
       "      <th>0</th>\n",
       "      <td>washingtontechnology.com</td>\n",
       "      <td>3 days ago</td>\n",
       "      <td>The company makes this executive team addition...</td>\n",
       "      <td>Easy Dynamics hires new finance chief</td>\n",
       "      <td>https://washingtontechnology.com/companies/202...</td>\n",
       "    </tr>\n",
       "    <tr>\n",
       "      <th>1</th>\n",
       "      <td>ft.com</td>\n",
       "      <td>1 day ago</td>\n",
       "      <td>US financial technology start-up Plaid has hir...</td>\n",
       "      <td>US fintech Plaid hires first chief financial o...</td>\n",
       "      <td>https://www.ft.com/content/e818d6aa-9a32-4874-...</td>\n",
       "    </tr>\n",
       "    <tr>\n",
       "      <th>2</th>\n",
       "      <td>yahoo.com</td>\n",
       "      <td>1 day ago</td>\n",
       "      <td>Fintech startup Plaid has hired former Expedia...</td>\n",
       "      <td>Plaid taps former Expedia exec as its new chie...</td>\n",
       "      <td>https://techcrunch.com/2023/10/18/plaid-taps-f...</td>\n",
       "    </tr>\n",
       "  </tbody>\n",
       "</table>\n",
       "</div>"
      ],
      "text/plain": [
       "             CONTACT_DOMAIN DATE_TIME_NEWS  \\\n",
       "0  washingtontechnology.com     3 days ago   \n",
       "1                    ft.com      1 day ago   \n",
       "2                 yahoo.com      1 day ago   \n",
       "\n",
       "                                             SNIPPET  \\\n",
       "0  The company makes this executive team addition...   \n",
       "1  US financial technology start-up Plaid has hir...   \n",
       "2  Fintech startup Plaid has hired former Expedia...   \n",
       "\n",
       "                                               TITLE  \\\n",
       "0              Easy Dynamics hires new finance chief   \n",
       "1  US fintech Plaid hires first chief financial o...   \n",
       "2  Plaid taps former Expedia exec as its new chie...   \n",
       "\n",
       "                                                 URL  \n",
       "0  https://washingtontechnology.com/companies/202...  \n",
       "1  https://www.ft.com/content/e818d6aa-9a32-4874-...  \n",
       "2  https://techcrunch.com/2023/10/18/plaid-taps-f...  "
      ]
     },
     "execution_count": 73,
     "metadata": {},
     "output_type": "execute_result"
    }
   ],
   "source": [
    "# Execute & ensure that the data is loaded correctly and is present in the table\n",
    "query = \"\"\"\n",
    "      SELECT * FROM <DB_NAME>.<SCHEMA_NAME>.GOOGLE_NEWS;\n",
    "    \"\"\"\n",
    "tempdf = exec_query(query, uname, pwd,url)\n",
    "tempdf.head(3)"
   ]
  },
  {
   "cell_type": "code",
   "execution_count": 21,
   "id": "4adc3efd-68d8-4bc5-93da-7e2ecadf016f",
   "metadata": {},
   "outputs": [
    {
     "data": {
      "application/vnd.jupyter.widget-view+json": {
       "model_id": "8472129a656b4214a91f956e6edfec98",
       "version_major": 2,
       "version_minor": 0
      },
      "text/plain": [
       "Downloading (…)okenizer_config.json:   0%|          | 0.00/366 [00:00<?, ?B/s]"
      ]
     },
     "metadata": {},
     "output_type": "display_data"
    },
    {
     "data": {
      "application/vnd.jupyter.widget-view+json": {
       "model_id": "e47ac4110a744340916b30ec871fb6d5",
       "version_major": 2,
       "version_minor": 0
      },
      "text/plain": [
       "Downloading (…)solve/main/vocab.txt:   0%|          | 0.00/232k [00:00<?, ?B/s]"
      ]
     },
     "metadata": {},
     "output_type": "display_data"
    },
    {
     "data": {
      "application/vnd.jupyter.widget-view+json": {
       "model_id": "acff4122f9d74fe2875503e646f8ee16",
       "version_major": 2,
       "version_minor": 0
      },
      "text/plain": [
       "Downloading (…)/main/tokenizer.json:   0%|          | 0.00/711k [00:00<?, ?B/s]"
      ]
     },
     "metadata": {},
     "output_type": "display_data"
    },
    {
     "data": {
      "application/vnd.jupyter.widget-view+json": {
       "model_id": "02f0f88a9ece4116928c5065fc22204b",
       "version_major": 2,
       "version_minor": 0
      },
      "text/plain": [
       "Downloading (…)cial_tokens_map.json:   0%|          | 0.00/125 [00:00<?, ?B/s]"
      ]
     },
     "metadata": {},
     "output_type": "display_data"
    },
    {
     "data": {
      "application/vnd.jupyter.widget-view+json": {
       "model_id": "a735341cbc1741baa6a5372f089154c6",
       "version_major": 2,
       "version_minor": 0
      },
      "text/plain": [
       "Downloading (…)lve/main/config.json:   0%|          | 0.00/684 [00:00<?, ?B/s]"
      ]
     },
     "metadata": {},
     "output_type": "display_data"
    },
    {
     "data": {
      "application/vnd.jupyter.widget-view+json": {
       "model_id": "d532e56ecacf4ce5894a8509ba2871ff",
       "version_major": 2,
       "version_minor": 0
      },
      "text/plain": [
       "Downloading model.safetensors:   0%|          | 0.00/133M [00:00<?, ?B/s]"
      ]
     },
     "metadata": {},
     "output_type": "display_data"
    }
   ],
   "source": [
    "# Vector search works on embeddings, instantiate embedding model of your choice\n",
    "tokenizer = AutoTokenizer.from_pretrained(\"BAAI/bge-small-en\")\n",
    "model = AutoModel.from_pretrained(\"BAAI/bge-small-en\")"
   ]
  },
  {
   "cell_type": "code",
   "execution_count": 22,
   "id": "371b0249-9c57-426e-beba-b2af33d29fe2",
   "metadata": {},
   "outputs": [],
   "source": [
    "# From the dataframe which has the data from table GOOGLE_NEWS, \n",
    "# choose your column for which you want to create vector embeddings.\n",
    "# In this case we are choosing Title for which we will create embeddings\n",
    "# and store it under column Vector\n",
    "\n",
    "# Generate embeddings for each text sample (TITLE) \n",
    "embeddings = []\n",
    "for text in tempdf['TITLE']:\n",
    "    encoded_input = tokenizer(text.lower(), padding=True, truncation=True, max_length=512, return_tensors='pt')\n",
    "    with torch.no_grad():\n",
    "        model_output = model(**encoded_input)\n",
    "    embeddings.append(model_output.last_hidden_state.mean(dim=1).squeeze().tolist())\n",
    "\n",
    "# Convert embeddings to a numpy array\n",
    "embeddings_arr = np.array(embeddings)\n",
    "\n",
    "tempdf['vector']=''\n",
    "for index, row in tempdf.iterrows():\n",
    "    tempdf.at[index, 'vector'] = embeddings_arr[index].tolist()"
   ]
  },
  {
   "cell_type": "code",
   "execution_count": 39,
   "id": "91d80749-1f17-487a-b977-038a66e26318",
   "metadata": {},
   "outputs": [
    {
     "name": "stdout",
     "output_type": "stream",
     "text": [
      "CPU times: user 164 ms, sys: 81.3 ms, total: 246 ms\n",
      "Wall time: 7.33 s\n"
     ]
    }
   ],
   "source": [
    "%%time\n",
    "\n",
    "# Now insert the rows from the df in the Vector table created in Snowflake\n",
    "cur = sf_conn(uname,pwd,url)\n",
    "\n",
    "sql = \"\"\"INSERT INTO <DB_NAME>.<SCHEMA_NAME>.GOOGLE_NEWS_EMBEDDINGS\n",
    "SELECT '{CONTACT_DOMAIN}','{DATE_TIME_NEWS}', '{SNIPPET}',\n",
    " '{TITLE}', '{URL}',\n",
    " parse_json('{vector}')\n",
    "\"\"\"\n",
    "# Insert rows to Snowflake vector table\n",
    "\n",
    "for i, r in tempdf.iterrows():\n",
    "    try:\n",
    "        r['TITLE'] = r['TITLE'].lower().replace(\"'\", \"\")\n",
    "        r['SNIPPET'] = r['SNIPPET'].replace(\"'\", \"\")\n",
    "        cur.execute(sql.format(**dict(r)))\n",
    "    except Exception as e:\n",
    "        print(\" --> Error at index:\", i)\n",
    "        # print(r)\n",
    "        print(\" Error:\", str(e))\n",
    "        continue"
   ]
  },
  {
   "cell_type": "code",
   "execution_count": 45,
   "id": "ed9c615b-6d68-4297-9a4e-41864dcee9e3",
   "metadata": {},
   "outputs": [
    {
     "data": {
      "text/html": [
       "<div>\n",
       "<style scoped>\n",
       "    .dataframe tbody tr th:only-of-type {\n",
       "        vertical-align: middle;\n",
       "    }\n",
       "\n",
       "    .dataframe tbody tr th {\n",
       "        vertical-align: top;\n",
       "    }\n",
       "\n",
       "    .dataframe thead th {\n",
       "        text-align: right;\n",
       "    }\n",
       "</style>\n",
       "<table border=\"1\" class=\"dataframe\">\n",
       "  <thead>\n",
       "    <tr style=\"text-align: right;\">\n",
       "      <th></th>\n",
       "      <th>CONTACT_DOMAIN</th>\n",
       "      <th>DATE_TIME_NEWS</th>\n",
       "      <th>SNIPPET</th>\n",
       "      <th>TITLE</th>\n",
       "      <th>URL</th>\n",
       "      <th>VECTOR</th>\n",
       "    </tr>\n",
       "  </thead>\n",
       "  <tbody>\n",
       "    <tr>\n",
       "      <th>0</th>\n",
       "      <td>washingtontechnology.com</td>\n",
       "      <td>3 days ago</td>\n",
       "      <td>The company makes this executive team addition...</td>\n",
       "      <td>easy dynamics hires new finance chief</td>\n",
       "      <td>https://washingtontechnology.com/companies/202...</td>\n",
       "      <td>[\\n  -0.5620648264884949,\\n  -0.34428820013999...</td>\n",
       "    </tr>\n",
       "    <tr>\n",
       "      <th>1</th>\n",
       "      <td>ft.com</td>\n",
       "      <td>1 day ago</td>\n",
       "      <td>US financial technology start-up Plaid has hir...</td>\n",
       "      <td>us fintech plaid hires first chief financial o...</td>\n",
       "      <td>https://www.ft.com/content/e818d6aa-9a32-4874-...</td>\n",
       "      <td>[\\n  -0.1221204400062561,\\n  -0.01620235480368...</td>\n",
       "    </tr>\n",
       "  </tbody>\n",
       "</table>\n",
       "</div>"
      ],
      "text/plain": [
       "             CONTACT_DOMAIN DATE_TIME_NEWS  \\\n",
       "0  washingtontechnology.com     3 days ago   \n",
       "1                    ft.com      1 day ago   \n",
       "\n",
       "                                             SNIPPET  \\\n",
       "0  The company makes this executive team addition...   \n",
       "1  US financial technology start-up Plaid has hir...   \n",
       "\n",
       "                                               TITLE  \\\n",
       "0              easy dynamics hires new finance chief   \n",
       "1  us fintech plaid hires first chief financial o...   \n",
       "\n",
       "                                                 URL  \\\n",
       "0  https://washingtontechnology.com/companies/202...   \n",
       "1  https://www.ft.com/content/e818d6aa-9a32-4874-...   \n",
       "\n",
       "                                              VECTOR  \n",
       "0  [\\n  -0.5620648264884949,\\n  -0.34428820013999...  \n",
       "1  [\\n  -0.1221204400062561,\\n  -0.01620235480368...  "
      ]
     },
     "execution_count": 45,
     "metadata": {},
     "output_type": "execute_result"
    }
   ],
   "source": [
    "# Ensure the data is loaded in the vector table \n",
    "# and the vector column has vectors \n",
    "query = \"\"\"\n",
    "      SELECT * FROM <DB_NAME>.<SCHEMA_NAME>.GOOGLE_NEWS_EMBEDDINGS;\n",
    "    \"\"\"\n",
    "tempdf = exec_query(query, uname, pwd,url)\n",
    "tempdf.head(2)"
   ]
  },
  {
   "cell_type": "code",
   "execution_count": 46,
   "id": "a4318a4b-27b9-40a2-b67d-d5693411ad29",
   "metadata": {},
   "outputs": [
    {
     "data": {
      "text/plain": [
       "(20, 6)"
      ]
     },
     "execution_count": 46,
     "metadata": {},
     "output_type": "execute_result"
    }
   ],
   "source": [
    "tempdf.shape"
   ]
  },
  {
   "cell_type": "code",
   "execution_count": 43,
   "id": "9149b99f-8083-417f-85b7-b9a799853c2c",
   "metadata": {},
   "outputs": [],
   "source": [
    "# Function to convert user query to vector embeddings\n",
    "def get_query_embeddings(query, tokenizer=tokenizer, model=model):\n",
    "    input_list = []\n",
    "    input_list.append(query)\n",
    "    embeddings_q = []\n",
    "    for text in input_list:\n",
    "        encoded_input = tokenizer(text.lower(), padding=True, truncation=True, max_length=512, return_tensors='pt')\n",
    "        with torch.no_grad():\n",
    "            model_output = model(**encoded_input)\n",
    "        embeddings_q.append(model_output.last_hidden_state.mean(dim=1).squeeze().tolist())\n",
    "\n",
    "    # Convert embeddings to a numpy array\n",
    "    embeddings_arr_q = np.array(embeddings_q)\n",
    "    return embeddings_arr_q"
   ]
  },
  {
   "cell_type": "code",
   "execution_count": 47,
   "id": "f11eb57b-9f44-45d7-999d-f3dedab9dd25",
   "metadata": {},
   "outputs": [],
   "source": [
    "# Function to execute Python UDF that will calculate cosine distance\n",
    "# between user query and vectors stored inside the vector table\n",
    "\n",
    "def get_sim_from_sf(query_emb, uname=uname, pwd=pwd,url=url):\n",
    "    query = \"\"\"\n",
    "      SELECT distinct title, url, \n",
    "        PY_COSINE_SIMILARITY(vector, {}) as cosine_sim\n",
    " FROM <DB_NAME>.<SCHEMA_NAME>.GOOGLE_NEWS_EMBEDDINGS\n",
    " ORDER BY  cosine_sim desc; \n",
    "    \"\"\".format(query_emb)\n",
    "    uname=uname\n",
    "    pwd=pwd\n",
    "    url=url\n",
    "    return exec_query(query, uname, pwd,url)\n"
   ]
  },
  {
   "cell_type": "code",
   "execution_count": 74,
   "id": "58bad3c2-f702-4717-9529-86f4704a40d7",
   "metadata": {},
   "outputs": [],
   "source": [
    "# Function that returns response to user query\n",
    "def do_vector_search(query):\n",
    "    embeddings_arr_q = get_query_embeddings(query) \n",
    "    return get_sim_from_sf(embeddings_arr_q[0].tolist())\n",
    "    \n"
   ]
  },
  {
   "cell_type": "code",
   "execution_count": 76,
   "id": "8654961d-05cb-45fb-83d2-63a51a7b179e",
   "metadata": {},
   "outputs": [
    {
     "data": {
      "text/html": [
       "<div>\n",
       "<style scoped>\n",
       "    .dataframe tbody tr th:only-of-type {\n",
       "        vertical-align: middle;\n",
       "    }\n",
       "\n",
       "    .dataframe tbody tr th {\n",
       "        vertical-align: top;\n",
       "    }\n",
       "\n",
       "    .dataframe thead th {\n",
       "        text-align: right;\n",
       "    }\n",
       "</style>\n",
       "<table border=\"1\" class=\"dataframe\">\n",
       "  <thead>\n",
       "    <tr style=\"text-align: right;\">\n",
       "      <th></th>\n",
       "      <th>TITLE</th>\n",
       "      <th>URL</th>\n",
       "      <th>COSINE_SIM</th>\n",
       "    </tr>\n",
       "  </thead>\n",
       "  <tbody>\n",
       "    <tr>\n",
       "      <th>0</th>\n",
       "      <td>hiring a chief financial officer</td>\n",
       "      <td>https://a16z.com/hiring-a-chief-financial-offi...</td>\n",
       "      <td>0.967084</td>\n",
       "    </tr>\n",
       "    <tr>\n",
       "      <th>1</th>\n",
       "      <td>spothero hires new chief financial officer</td>\n",
       "      <td>https://www.businesswire.com/news/home/2023101...</td>\n",
       "      <td>0.871449</td>\n",
       "    </tr>\n",
       "    <tr>\n",
       "      <th>2</th>\n",
       "      <td>community roundup: magruder hires chief financ...</td>\n",
       "      <td>https://www.thenews-messenger.com/story/news/l...</td>\n",
       "      <td>0.833398</td>\n",
       "    </tr>\n",
       "  </tbody>\n",
       "</table>\n",
       "</div>"
      ],
      "text/plain": [
       "                                               TITLE  \\\n",
       "0                   hiring a chief financial officer   \n",
       "1         spothero hires new chief financial officer   \n",
       "2  community roundup: magruder hires chief financ...   \n",
       "\n",
       "                                                 URL  COSINE_SIM  \n",
       "0  https://a16z.com/hiring-a-chief-financial-offi...    0.967084  \n",
       "1  https://www.businesswire.com/news/home/2023101...    0.871449  \n",
       "2  https://www.thenews-messenger.com/story/news/l...    0.833398  "
      ]
     },
     "execution_count": 76,
     "metadata": {},
     "output_type": "execute_result"
    }
   ],
   "source": [
    "# Lets query Snowflake \n",
    "query = 'Who is hiring chief financial officer?'\n",
    "df_vector_search_response = do_vector_search(query)\n",
    "df_vector_search_response.head(3)"
   ]
  },
  {
   "cell_type": "code",
   "execution_count": 80,
   "id": "6c4cb7f8-2695-4b4e-945e-c6cd20df09e5",
   "metadata": {},
   "outputs": [
    {
     "data": {
      "text/html": [
       "<div>\n",
       "<style scoped>\n",
       "    .dataframe tbody tr th:only-of-type {\n",
       "        vertical-align: middle;\n",
       "    }\n",
       "\n",
       "    .dataframe tbody tr th {\n",
       "        vertical-align: top;\n",
       "    }\n",
       "\n",
       "    .dataframe thead th {\n",
       "        text-align: right;\n",
       "    }\n",
       "</style>\n",
       "<table border=\"1\" class=\"dataframe\">\n",
       "  <thead>\n",
       "    <tr style=\"text-align: right;\">\n",
       "      <th></th>\n",
       "      <th>TITLE</th>\n",
       "      <th>URL</th>\n",
       "      <th>COSINE_SIM</th>\n",
       "    </tr>\n",
       "  </thead>\n",
       "  <tbody>\n",
       "    <tr>\n",
       "      <th>0</th>\n",
       "      <td>crossroads equipment lease and finance hires b...</td>\n",
       "      <td>https://www.monitordaily.com/news-posts/crossr...</td>\n",
       "      <td>0.767865</td>\n",
       "    </tr>\n",
       "    <tr>\n",
       "      <th>1</th>\n",
       "      <td>hiring a chief financial officer</td>\n",
       "      <td>https://a16z.com/hiring-a-chief-financial-offi...</td>\n",
       "      <td>0.763271</td>\n",
       "    </tr>\n",
       "    <tr>\n",
       "      <th>2</th>\n",
       "      <td>us fintech plaid hires first chief financial o...</td>\n",
       "      <td>https://www.ft.com/content/e818d6aa-9a32-4874-...</td>\n",
       "      <td>0.740950</td>\n",
       "    </tr>\n",
       "  </tbody>\n",
       "</table>\n",
       "</div>"
      ],
      "text/plain": [
       "                                               TITLE  \\\n",
       "0  crossroads equipment lease and finance hires b...   \n",
       "1                   hiring a chief financial officer   \n",
       "2  us fintech plaid hires first chief financial o...   \n",
       "\n",
       "                                                 URL  COSINE_SIM  \n",
       "0  https://www.monitordaily.com/news-posts/crossr...    0.767865  \n",
       "1  https://a16z.com/hiring-a-chief-financial-offi...    0.763271  \n",
       "2  https://www.ft.com/content/e818d6aa-9a32-4874-...    0.740950  "
      ]
     },
     "execution_count": 80,
     "metadata": {},
     "output_type": "execute_result"
    }
   ],
   "source": [
    "# Lets query Snowflake \n",
    "query = 'Who hired technology officer?'\n",
    "df_vector_search_response = do_vector_search(query)\n",
    "df_vector_search_response.head(3)"
   ]
  },
  {
   "cell_type": "code",
   "execution_count": 82,
   "id": "69912dea-0b37-4a5c-92cf-13a6e0e0a184",
   "metadata": {},
   "outputs": [
    {
     "name": "stdout",
     "output_type": "stream",
     "text": [
      "crossroads equipment lease and finance hires balaraman as chief technology \n",
      "officer\n"
     ]
    }
   ],
   "source": [
    "print(df_vector_search_response.iloc[0].TITLE)"
   ]
  },
  {
   "cell_type": "code",
   "execution_count": null,
   "id": "e4779ce3-a121-41a3-a915-af5dc4e9d851",
   "metadata": {},
   "outputs": [],
   "source": []
  }
 ],
 "metadata": {
  "kernelspec": {
   "display_name": "Python 3 (ipykernel)",
   "language": "python",
   "name": "python3"
  },
  "language_info": {
   "codemirror_mode": {
    "name": "ipython",
    "version": 3
   },
   "file_extension": ".py",
   "mimetype": "text/x-python",
   "name": "python",
   "nbconvert_exporter": "python",
   "pygments_lexer": "ipython3",
   "version": "3.11.3"
  }
 },
 "nbformat": 4,
 "nbformat_minor": 5
}
